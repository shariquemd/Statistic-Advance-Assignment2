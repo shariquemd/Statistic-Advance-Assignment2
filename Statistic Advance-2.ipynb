{
 "cells": [
  {
   "cell_type": "markdown",
   "id": "f2de6b10",
   "metadata": {},
   "source": [
    "# Answer1"
   ]
  },
  {
   "cell_type": "code",
   "execution_count": null,
   "id": "6f6a3275",
   "metadata": {},
   "outputs": [],
   "source": [
    "PMF (Probability Mass Function): It's used for discrete random variables. The PMF gives the probability that a discrete random variable is exactly equal to some value. Think of it like a histogram—it tells you the probability of each specific outcome.\n",
    "Example: Let's say you're rolling a six-sided die. The PMF would give you the probability of getting each number (1, 2, 3, 4, 5, 6) on a single roll.\n",
    "\n",
    "PDF (Probability Density Function): This one is for continuous random variables. Unlike the PMF, which deals with specific values, the PDF deals with ranges of values. The probability of a continuous random variable falling within a particular range is given by the area under the PDF curve within that range.\n",
    "Example: Think of the height of people in a room. You wouldn't say the probability of someone being exactly 175.36 cm is high, but you might be interested in the probability of someone being between 170 cm and 180 cm"
   ]
  },
  {
   "cell_type": "markdown",
   "id": "33cedc73",
   "metadata": {},
   "source": [
    "# Answer2"
   ]
  },
  {
   "cell_type": "code",
   "execution_count": null,
   "id": "409ab054",
   "metadata": {},
   "outputs": [],
   "source": [
    "The CDF gives the probability that a random variable takes a value less than or equal to a given value. It's a way to accumulate the probabilities up to a certain point.\n",
    "Example: Going back to the six-sided die, the CDF would tell you the probability of rolling a number less than or equal to a certain value. If you want to know the probability of rolling a 4 or less, the CDF would give you that cumulative probability."
   ]
  },
  {
   "cell_type": "markdown",
   "id": "147040a0",
   "metadata": {},
   "source": [
    "# Answer3"
   ]
  },
  {
   "cell_type": "code",
   "execution_count": null,
   "id": "343ad678",
   "metadata": {},
   "outputs": [],
   "source": [
    "The normal distribution, also known as the bell curve or Gaussian distribution, is commonly used to model various real-world phenomena. Here are some examples\n",
    "Height of a Population: Human height tends to follow a normal distribution. Most people fall near the average height, and fewer people are extremely tall or short.\n",
    "IQ Scores: Intelligence quotient (IQ) scores are often modeled using a normal distribution. The majority of the population has average intelligence, and fewer people have very high or very low intelligence.\n",
    "Measurement Errors: When measuring quantities like length, weight, or time, errors often follow a normal distribution.\n",
    "\n",
    "The parameters of the normal distribution are the mean (µ) and the standard deviation (σ). The mean determines the center of the distribution, and the standard deviation determines the spread. A larger standard deviation leads to a wider and flatter distribution, while a smaller standard deviation results in a narrower and taller distribution."
   ]
  },
  {
   "cell_type": "markdown",
   "id": "ceb3c1e6",
   "metadata": {},
   "source": [
    "# Answer4"
   ]
  },
  {
   "cell_type": "code",
   "execution_count": null,
   "id": "4ab8cc90",
   "metadata": {},
   "outputs": [],
   "source": [
    "Central Limit Theorem: The normal distribution underlies the Central Limit Theorem, which states that the distribution of the sum (or average) of a large number of independent, identically distributed random variables approaches a normal distribution, regardless of the original distribution. This makes it a fundamental concept in inferential statistics.\n",
    "Statistical Inference: Many statistical methods, such as hypothesis testing and confidence intervals, are based on assumptions of normality. This simplifies the analysis and interpretation of data.\n",
    "\n",
    "Real-life examples of normal distribution include:\n",
    "\n",
    "Exam Scores: In a large population taking an exam, scores often follow a normal distribution with most students scoring around the average.\n",
    "Body Temperature: Body temperatures in a healthy population often follow a normal distribution with a mean around 98.6°F (37°C).\n",
    "Reaction Times: The time it takes for individuals to react to a stimulus, like pressing a button when a light flashes, tends to follow a normal distribution."
   ]
  },
  {
   "cell_type": "markdown",
   "id": "c4cfd049",
   "metadata": {},
   "source": [
    "# Answer5"
   ]
  },
  {
   "cell_type": "code",
   "execution_count": null,
   "id": "a7db0657",
   "metadata": {},
   "outputs": [],
   "source": [
    "The Bernoulli distribution is a discrete probability distribution for a random variable that can take on one of two possible outcomes, usually labeled as success (1) and failure (0). It's named after Jacob Bernoulli.\n",
    "Example: Consider a single toss of a biased coin. Let's say getting a head is a success (1) and getting a tail is a failure (0). The outcome of this experiment follows a Bernoulli distribution.\n",
    "\n",
    "In simpler terms, the Bernoulli distribution is for a single event, while the binomial distribution is for the number of successes in a fixed number of such events."
   ]
  },
  {
   "cell_type": "markdown",
   "id": "aa82f2b6",
   "metadata": {},
   "source": [
    "# Answer6"
   ]
  },
  {
   "cell_type": "code",
   "execution_count": 2,
   "id": "fd16a996",
   "metadata": {},
   "outputs": [],
   "source": [
    "Z=(60-50)/10=1\n",
    "we look up the Z-score in a standard normal distribution table or use a calculator to find the probability associated with a Z-score of 1.\n",
    "For a Z-score of 1, the probability is roughly 0.8413.\n",
    "So, the probability that a randomly selected observation will be greater than 60 is approximately \n",
    "1−0.8413=0.1587\n",
    "1−0.8413=0.1587 or 15.87%."
   ]
  },
  {
   "cell_type": "markdown",
   "id": "fbac69a0",
   "metadata": {},
   "source": [
    "# Answer7"
   ]
  },
  {
   "cell_type": "code",
   "execution_count": null,
   "id": "ca0c5748",
   "metadata": {},
   "outputs": [],
   "source": [
    "The uniform distribution is a probability distribution where all outcomes are equally likely. In other words, every possible value has the same probability of occurring. It's like rolling a fair six-sided die—each number has a 1/6 chance of showing up.\n",
    "Example: Think of a spinner divided into 8 equal sections, each representing a different outcome. If the spinner is fair, the probability of it landing on any one section is the same, making it a uniform distribution."
   ]
  },
  {
   "cell_type": "markdown",
   "id": "197800a6",
   "metadata": {},
   "source": [
    "# Answer8"
   ]
  },
  {
   "cell_type": "code",
   "execution_count": null,
   "id": "5b18e8c0",
   "metadata": {},
   "outputs": [],
   "source": [
    "The Z-score (or standard score) is a measure of how many standard deviations a particular data point is from the mean of a dataset.\n",
    "Standardization: Z-scores standardize data, allowing for comparisons across different scales and distributions. This is especially useful in statistics and data analysis.\n",
    "Normal Distribution: In a standard normal distribution (mean = 0, standard deviation = 1), the Z-score directly indicates how many standard deviations a data point is from the mean. This simplifies comparisons and statistical analyses.\n",
    "Identifying Outliers: Z-scores help identify outliers in a dataset. Data points with extreme Z-scores (far from 0) may be considered unusual or noteworthy."
   ]
  },
  {
   "cell_type": "markdown",
   "id": "12cd4754",
   "metadata": {},
   "source": [
    "# Answer9"
   ]
  },
  {
   "cell_type": "code",
   "execution_count": null,
   "id": "a50b84ee",
   "metadata": {},
   "outputs": [],
   "source": [
    "The Central Limit Theorem is a fundamental concept in statistics. It states that, regardless of the shape of the original population distribution, the distribution of the sum (or average) of a large number of independent, identically distributed random variables approaches a normal (Gaussian) distribution. In simpler terms, the sampling distribution of the sample mean becomes approximately normal as the sample size increases, even if the underlying population is not normally distributed.\n",
    "\n",
    "Significance of the Central Limit Theorem:\n",
    "Inference: The CLT is the foundation of many statistical inference methods. It allows us to make statistical inferences about population parameters based on sample statistics.\n",
    "Large Sample Sizes: It implies that for large enough sample sizes, the distribution of sample means becomes normal, making it easier to apply statistical techniques that assume normality.\n",
    "Standardization: The CLT enables standardization of sample means, leading to the use of Z-scores in hypothesis testing and confidence intervals.\n",
    "Real-World Applications: In many real-world scenarios, sample sizes tend to be large due to the ease of data collection. The CLT makes it practical to use normal distribution-based methods in such cases."
   ]
  },
  {
   "cell_type": "markdown",
   "id": "9a52252f",
   "metadata": {},
   "source": [
    "# Answer10"
   ]
  },
  {
   "cell_type": "code",
   "execution_count": null,
   "id": "09024188",
   "metadata": {},
   "outputs": [],
   "source": [
    "Independence: The random variables being averaged or summed must be independent of each other. This is crucial for the validity of the theorem.\n",
    "Identically Distributed: The random variables should be identically distributed, meaning they have the same mean and standard deviation.\n",
    "Sample Size: The sample size should be sufficiently large. While there's no strict rule on what constitutes \"large,\" a common guideline is a sample size of at least 30. However, the larger the sample size, the better the approximation to normality.\n",
    "Random Sampling: The samples must be drawn randomly from the population. Non-random sampling methods can introduce bias."
   ]
  }
 ],
 "metadata": {
  "kernelspec": {
   "display_name": "Python 3 (ipykernel)",
   "language": "python",
   "name": "python3"
  },
  "language_info": {
   "codemirror_mode": {
    "name": "ipython",
    "version": 3
   },
   "file_extension": ".py",
   "mimetype": "text/x-python",
   "name": "python",
   "nbconvert_exporter": "python",
   "pygments_lexer": "ipython3",
   "version": "3.11.4"
  }
 },
 "nbformat": 4,
 "nbformat_minor": 5
}
